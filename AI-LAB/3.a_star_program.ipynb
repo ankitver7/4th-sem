{
 "cells": [
  {
   "cell_type": "code",
   "execution_count": 6,
   "id": "d162e250",
   "metadata": {},
   "outputs": [
    {
     "name": "stdout",
     "output_type": "stream",
     "text": [
      "Path found: [(0, 0), (1, 0), (2, 0), (3, 0), (3, 1), (3, 2), (4, 2), (4, 3), (4, 4)]\n"
     ]
    }
   ],
   "source": [
    "import heapq\n",
    "\n",
    "class Node:\n",
    "    def __init__(self, state, parent=None, g=0, h=0):\n",
    "        self.state = state\n",
    "        self.parent = parent\n",
    "        self.g = g\n",
    "        self.h = h\n",
    "\n",
    "    def f(self):\n",
    "        return self.g + self.h\n",
    "\n",
    "    def __lt__(self, other):\n",
    "        return self.f() < other.f()\n",
    "\n",
    "def astar_search(start_state, goal_state, heuristic):\n",
    "    open_set = []\n",
    "    closed_set = set()\n",
    "    start_node = Node(start_state, g=0, h=heuristic(start_state, goal_state))\n",
    "    heapq.heappush(open_set, start_node)\n",
    "\n",
    "    while open_set:\n",
    "        current_node = heapq.heappop(open_set)\n",
    "        if current_node.state == goal_state:\n",
    "            path = []\n",
    "            while current_node:\n",
    "                path.append(current_node.state)\n",
    "                current_node = current_node.parent\n",
    "            return path[::-1]\n",
    "\n",
    "        closed_set.add(current_node.state)\n",
    "        \n",
    "        for neighbor_state in get_neighbors(current_node.state):\n",
    "            if neighbor_state in closed_set:\n",
    "                continue\n",
    "            g = current_node.g + 1\n",
    "            h = heuristic(neighbor_state, goal_state)\n",
    "            neighbor_node = Node(neighbor_state, parent=current_node, g=g, h=h)\n",
    "            \n",
    "            if all(neighbor_node.state != node.state for node in open_set):\n",
    "                heapq.heappush(open_set, neighbor_node)\n",
    "            else:\n",
    "                for node in open_set:\n",
    "                    if node.state == neighbor_node.state and g < node.g:\n",
    "                        node.g = g\n",
    "                        node.parent = current_node\n",
    "                        heapq.heapify(open_set)\n",
    "                        break\n",
    "\n",
    "    return None\n",
    "\n",
    "def manhattan_distance(state, goal_state):\n",
    "    return abs(state[0] - goal_state[0]) + abs(state[1] - goal_state[1])\n",
    "\n",
    "def get_neighbors(state):\n",
    "    x, y = state\n",
    "    neighbors = []\n",
    "    for dx, dy in [(1, 0), (-1, 0), (0, 1), (0, -1)]:\n",
    "        nx, ny = x + dx, y + dy\n",
    "        if 0 <= nx < GRID_WIDTH and 0 <= ny < GRID_HEIGHT:\n",
    "            neighbors.append((nx, ny))\n",
    "    return neighbors\n",
    "\n",
    "GRID_WIDTH, GRID_HEIGHT = 5, 5\n",
    "start_state = (0, 0)\n",
    "goal_state = (4, 4)\n",
    "path = astar_search(start_state, goal_state, manhattan_distance)\n",
    "print(\"Path found:\", path)\n"
   ]
  },
  {
   "cell_type": "code",
   "execution_count": null,
   "id": "c919223d",
   "metadata": {},
   "outputs": [],
   "source": []
  },
  {
   "cell_type": "code",
   "execution_count": null,
   "id": "5f69bfa5",
   "metadata": {},
   "outputs": [],
   "source": []
  }
 ],
 "metadata": {
  "kernelspec": {
   "display_name": "Python 3 (ipykernel)",
   "language": "python",
   "name": "python3"
  },
  "language_info": {
   "codemirror_mode": {
    "name": "ipython",
    "version": 3
   },
   "file_extension": ".py",
   "mimetype": "text/x-python",
   "name": "python",
   "nbconvert_exporter": "python",
   "pygments_lexer": "ipython3",
   "version": "3.11.5"
  }
 },
 "nbformat": 4,
 "nbformat_minor": 5
}
